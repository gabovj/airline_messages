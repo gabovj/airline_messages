{
 "cells": [
  {
   "cell_type": "code",
   "execution_count": 1,
   "id": "c811f33f",
   "metadata": {},
   "outputs": [],
   "source": [
    "import re\n",
    "import numpy as np\n",
    "import pandas as pd\n",
    "from pprint import pprint\n",
    "import nltk\n",
    "from nltk.corpus import stopwords\n",
    "import os.path\n",
    "\n",
    "# Gensim\n",
    "import gensim\n",
    "import gensim.corpora as corpora\n",
    "from gensim.utils import simple_preprocess\n",
    "from gensim.models import CoherenceModel\n",
    "#from gensim.models.wrappers import LdaMallet\n",
    "\n",
    "\n",
    "# Plotting tools\n",
    "import pyLDAvis\n",
    "import pyLDAvis.gensim_models\n",
    "import matplotlib.pyplot as plt\n",
    "%matplotlib inline\n",
    "\n",
    "\n",
    "# Enable logging for gensim - optional\n",
    "import logging\n",
    "logging.basicConfig(format='%(asctime)s : %(levelname)s : %(message)s', level=logging.ERROR)\n",
    "\n",
    "import warnings\n",
    "warnings.filterwarnings(\"ignore\",category=DeprecationWarning)"
   ]
  },
  {
   "cell_type": "code",
   "execution_count": 2,
   "id": "724ba5e6",
   "metadata": {},
   "outputs": [],
   "source": [
    "data = pd.read_csv(r'C:\\Users\\gabov\\Desktop\\aerolinea_sentiment\\data\\data_final.csv')"
   ]
  },
  {
   "cell_type": "code",
   "execution_count": 3,
   "id": "df729dd4",
   "metadata": {},
   "outputs": [
    {
     "name": "stdout",
     "output_type": "stream",
     "text": [
      "['Hemos recibido su reporte srita Labrada nos disculpamos por los '\n",
      " 'inconvenientes aspi mismo si hubo una confusión con la información que se '\n",
      " 'brindo respecto a las políticas de su vuelo hemos validado que a su '\n",
      " 'reservación SHZKR fue aplicada su reprogramación el día de mayo asi mismo '\n",
      " 'anexamos la información correspondiente a su certificado electrónico por '\n",
      " 'servicio de maleta adicional así como sus políticas de uso Número de '\n",
      " 'certificado electrónico Titular Maura Labrada Araujo Monto MXN Vigencia OCT '\n",
      " 'Es válido únicamente a través del call center Tiene una vigencia de días '\n",
      " 'para hacerlo valido la fecha del vuelo puede ser posterior a esos días En '\n",
      " 'caso de que el costo de su reservación sea mayor al monto de su voucher se '\n",
      " 'tendrá que pagar el excedente No es residual En la reservación generada con '\n",
      " 'él sólo puede ir un pasajero el titular del voucher Además el titular del '\n",
      " 'voucher debe ser quién genere esta reservación Quedamos a sus órdenes para '\n",
      " 'cualquier información posterior que requiera Saludos Cordiales Aleyda Garza '\n",
      " 'Servicio a Clientes']\n"
     ]
    }
   ],
   "source": [
    "# Convert to list\n",
    "data = data.descripcion.values.tolist()\n",
    "\n",
    "# Remove Emails\n",
    "data = [re.sub('\\S*@\\S*\\s?', '', sent) for sent in data]\n",
    "\n",
    "# Remove new line characters\n",
    "data = [re.sub('\\s+', ' ', sent) for sent in data]\n",
    "\n",
    "# Remove distracting single quotes\n",
    "data = [re.sub(\"\\'\", \"\", sent) for sent in data]\n",
    "\n",
    "pprint(data[:1])"
   ]
  },
  {
   "cell_type": "code",
   "execution_count": 4,
   "id": "bc9c0266",
   "metadata": {},
   "outputs": [
    {
     "name": "stdout",
     "output_type": "stream",
     "text": [
      "[['hemos', 'recibido', 'su', 'reporte', 'srita', 'labrada', 'nos', 'disculpamos', 'por', 'los', 'inconvenientes', 'aspi', 'mismo', 'si', 'hubo', 'una', 'confusion', 'con', 'la', 'informacion', 'que', 'se', 'brindo', 'respecto', 'las', 'politicas', 'de', 'su', 'vuelo', 'hemos', 'validado', 'que', 'su', 'reservacion', 'shzkr', 'fue', 'aplicada', 'su', 'reprogramacion', 'el', 'dia', 'de', 'mayo', 'asi', 'mismo', 'anexamos', 'la', 'informacion', 'correspondiente', 'su', 'certificado', 'electronico', 'por', 'servicio', 'de', 'maleta', 'adicional', 'asi', 'como', 'sus', 'politicas', 'de', 'uso', 'numero', 'de', 'certificado', 'electronico', 'titular', 'maura', 'labrada', 'araujo', 'monto', 'mxn', 'vigencia', 'oct', 'es', 'valido', 'unicamente', 'traves', 'del', 'call', 'center', 'tiene', 'una', 'vigencia', 'de', 'dias', 'para', 'hacerlo', 'valido', 'la', 'fecha', 'del', 'vuelo', 'puede', 'ser', 'posterior', 'esos', 'dias', 'en', 'caso', 'de', 'que', 'el', 'costo', 'de', 'su', 'reservacion', 'sea', 'mayor', 'al', 'monto', 'de', 'su', 'voucher', 'se', 'tendra', 'que', 'pagar', 'el', 'excedente', 'no', 'es', 'residual', 'en', 'la', 'reservacion', 'generada', 'con', 'el', 'solo', 'puede', 'ir', 'un', 'pasajero', 'el', 'titular', 'del', 'voucher', 'ademas', 'el', 'titular', 'del', 'voucher', 'debe', 'ser', 'quien', 'genere', 'esta', 'reservacion', 'quedamos', 'sus', 'ordenes', 'para', 'cualquier', 'informacion', 'posterior', 'que', 'requiera', 'saludos', 'cordiales', 'aleyda', 'garza', 'servicio', 'clientes']]\n"
     ]
    }
   ],
   "source": [
    "def sent_to_words(sentences):\n",
    "    for sentence in sentences:\n",
    "        yield(gensim.utils.simple_preprocess(str(sentence), deacc=True))  # deacc=True removes punctuations\n",
    "\n",
    "data_words = list(sent_to_words(data))\n",
    "\n",
    "print(data_words[:1])"
   ]
  },
  {
   "cell_type": "code",
   "execution_count": 5,
   "id": "a41d5cc5",
   "metadata": {},
   "outputs": [
    {
     "name": "stdout",
     "output_type": "stream",
     "text": [
      "['hemos_recibido', 'su', 'reporte', 'srita', 'labrada', 'nos', 'disculpamos', 'por', 'los', 'inconvenientes', 'aspi', 'mismo', 'si', 'hubo', 'una', 'confusion', 'con', 'la', 'informacion', 'que', 'se', 'brindo', 'respecto', 'las', 'politicas', 'de', 'su', 'vuelo', 'hemos', 'validado', 'que', 'su', 'reservacion', 'shzkr', 'fue', 'aplicada', 'su', 'reprogramacion', 'el', 'dia', 'de', 'mayo', 'asi', 'mismo', 'anexamos', 'la', 'informacion', 'correspondiente', 'su', 'certificado', 'electronico', 'por', 'servicio', 'de', 'maleta', 'adicional', 'asi', 'como', 'sus', 'politicas', 'de', 'uso', 'numero', 'de', 'certificado', 'electronico', 'titular', 'maura', 'labrada', 'araujo', 'monto', 'mxn', 'vigencia', 'oct', 'es', 'valido', 'unicamente', 'traves', 'del', 'call_center', 'tiene', 'una', 'vigencia', 'de', 'dias', 'para', 'hacerlo_valido', 'la', 'fecha', 'del', 'vuelo', 'puede', 'ser', 'posterior', 'esos', 'dias', 'en', 'caso', 'de', 'que', 'el', 'costo', 'de', 'su', 'reservacion', 'sea', 'mayor', 'al', 'monto', 'de', 'su', 'voucher', 'se', 'tendra', 'que', 'pagar', 'el', 'excedente', 'no', 'es', 'residual', 'en', 'la', 'reservacion', 'generada', 'con', 'el', 'solo', 'puede', 'ir', 'un', 'pasajero', 'el', 'titular', 'del', 'voucher', 'ademas', 'el', 'titular', 'del', 'voucher', 'debe', 'ser', 'quien', 'genere', 'esta', 'reservacion', 'quedamos', 'sus', 'ordenes', 'para', 'cualquier', 'informacion', 'posterior', 'que', 'requiera', 'saludos', 'cordiales', 'aleyda_garza', 'servicio', 'clientes']\n"
     ]
    }
   ],
   "source": [
    "# Build the bigram and trigram models\n",
    "bigram = gensim.models.Phrases(data_words, min_count=5, threshold=100) # higher threshold fewer phrases.\n",
    "trigram = gensim.models.Phrases(bigram[data_words], threshold=100)  \n",
    "\n",
    "# Faster way to get a sentence clubbed as a trigram/bigram\n",
    "bigram_mod = gensim.models.phrases.Phraser(bigram)\n",
    "trigram_mod = gensim.models.phrases.Phraser(trigram)\n",
    "\n",
    "# See trigram example\n",
    "print(trigram_mod[bigram_mod[data_words[0]]])"
   ]
  },
  {
   "cell_type": "code",
   "execution_count": 6,
   "id": "aa7beb30",
   "metadata": {},
   "outputs": [],
   "source": [
    "# Define functions for stopwords, bigrams, trigrams and lemmatization\n",
    "def remove_stopwords(texts):\n",
    "    # return [[word for word in simple_preprocess(str(doc)) if word not in stop_words] for doc in texts]\n",
    "    return [[word for word in simple_preprocess(str(doc)) if word not in final_stop_words] for doc in texts]\n",
    "\n",
    "def make_bigrams(texts):\n",
    "    return [bigram_mod[doc] for doc in texts]\n",
    "\n",
    "def make_trigrams(texts):\n",
    "    return [trigram_mod[bigram_mod[doc]] for doc in texts]\n"
   ]
  },
  {
   "cell_type": "code",
   "execution_count": 7,
   "id": "d9efe985",
   "metadata": {},
   "outputs": [
    {
     "name": "stdout",
     "output_type": "stream",
     "text": [
      "{'ni', 'estábamos', 'seríais', 'cordiales', 'esto', 'solo', 'teníais', 'tuve', 'le', 'tuya', 'tuviste', 'es', 'estaremos', 'tuvieron', 'son', 'erais', 'dia', 'habíais', 'www', 'tendréis', 'todos', 'fui', 'tengas', 'estada', 'fueron', 'antes', 'mis', 'estuvisteis', 'tarde', 'tenido', 'algunas', 'nuestras', 'como', 'hayáis', 'podrás encontrar', 'seréis', 'esos', 'que', 'com', 'donde', 'cognitoforms', 'mailto', 'hotmail', 'tendrías', 'sois', 'nuestra', 'podrá', 'términos', 'formato', 'tuviésemos', 'fueseis', 'tendríais', 'sentid', 'estado', 'me', 'buenos', 'estemos', 'estar', 'de', 'fuisteis', 'mx', 'eran', 'estadas', 'se', 'fuimos', 'vuestras', 'vuestro', 'suya', 'sin', 'sentidos', 'fuiste', 'estaréis', 'ellas', 'esté', 'tuviesen', 'tened', 'estés', 'correo', 'poco', 'tuvieras', 'muy', 'les', 'quisiera', 'qué', 'sentido', 'png', 'sobre', 'tuyos', 'ustede', 'estás', 'hoy', 'teníamos', 'tendrían', 'tenía', 'sea', 'habrías', 'han', 'habiendo', 'grupos', 'con', 'sentida', 'eso', 'un', 'esa', 'mío', 'estaré', 'tenían', 'estarán', 'seremos', 'tengan', 'sentidas', 'xx ', 'encontrar', 'otra', 'contra', 'e', 'estoy', 'tengo', 'hubo', 'soy', 'suyas', 'tengamos', 'estuviste', 'fuese', 'hubieron', 'fueran', 'fueses', 'mi', 'ti', 'durante', 'buen', 'nos', 'algo', 'estuvieras', 'tuvo', 'del', 'habido', 'habrás', 'condiciones', 'tienen', 'suyo', 'tienes', 'estéis', 'hubiésemos', 'la', 'estaban', 'habrían', 'eres', 'tendría', 'en', 'ese', 'mías', 'noche', 'saludos cordiales', 'quedo', 'estamos', 'cid', 'era', 'estas', 'seríamos', 'fuera', 'más', 'por', 'hacer', 'habíamos', 'estuve', 'siente', 'tenga', 'estos', 'tiene', 'estaba', 'al', 'éramos', 'estuviésemos', 'tendré', 'tendremos', 'mí', 'día', 'tenida', 'están', 'también', 'mía', 'habéis', 'habías', 'mucho', 'vuestros', 'estados', 'esta', 'estad', 'saludos', '6c756af0', 'hubiéramos', 'yo', 'hubiste', 'hubimos', 'hubieran', 'habríamos', 'estabais', 'tú', 'hubierais', 'para', 'seas', 'nuestro', 'términos condiciones', 'os', 'tengáis', 'ante', 'está', 'tuvieses', 'seáis', 'has', 'espera', 'hubieseis', 'image004', 'gmail', 'estuvieran', 'todo', 'tendrás', 'sintiendo', 'otros', 'estuviera', 'tenías', 'hubisteis', 'he', 'vosotras', 'nosotros', 'nada', 'serán', 'estuvierais', 'estabas', 'pero', 'tardes', 'tuyas', 'tuyo', 'sus', 'esas', 'serás', 'quienes', 'habríais', 'estuvieron', 'estuviéramos', 'hubiesen', 'hemos', 'te', '01d57aa3', 'si', 'podrás', 'hubieses', 'hasta', 'él', 'image', 'seamos', 'fueras', 'había', 'estuviese', 'míos', 'buenas', 'será', 'habrá', 'fuésemos', 'nosotras', 'ya', 'días', 'unos', 'ustedes', 'serían', 'hola', 'hubiese', 'estuvo', 'entre', 'tuvieseis', 'somos', 'hube', 'adjunto', 'tenidas', 'estuvieseis', 'hay', 'seré', 'estarás', 'estaríamos', 'suyos', 'no', 'haya', 'gmail com', 'uno', 'tuviese', 'estáis', 'tu', 'favor', 'habidos', 'hubiera', 'algunos', 'habremos', 'habréis', 'porque', 'sería', 'una', 'tuviera', 'hayamos', 'teniendo', 'ellos', 'estén', 'cuando', 'estará', 'estando', 'estuvieses', 'estarías', 'tuvieran', 'lo', 'fuéramos', 'tendrá', 'puedo', 'fue', 'saber', 'fuerais', 'su', 'habían', 'muchas', 'tuvisteis', 'pdf', 'el', 'tuvimos', 'aerobu', 'otras', 'nuestros', 'habrán', 'estarían', 'tus', 'ha', 'electronico', 'sí', 'hubieras', 'hayan', 'adjunto podrá', 'estaría', 'otro', 'habida', 'estuvimos', 'blue', 'gracias', 'o', 'los', 'tendrán', 'y', 'este', 'habría', 'vosotros', 'muchos', 'cual', 'tuviéramos', 'hayas', 'quien', 'vea', 'estuviesen', 'tenemos', 'tenéis', 'las', 'vuestra', 'noches', 'habré', 'tuvierais', 'habidas', 'fuesen', 'desde', 'blueaerolinea', 'sean', 'correo electrónico', 'tanto', 'a', 'tendríamos', 'nbsp', 'eras', 'estaríais', 'ella', 'tenidos', 'com mx', 'serías'}\n"
     ]
    }
   ],
   "source": [
    "#Define stop words\n",
    "stop_words_sp = set(stopwords.words('spanish'))\n",
    "# stop_words_en = set(stopwords.words('english'))\n",
    "stop_words = stop_words_sp #| stop_words_en\n",
    "#add words that aren't in the NLTK stopwords list\n",
    "new_stopwords = [\"buenas\", \"buen\",\"blueaerolinea\",\"saludos cordiales\",\"com mx\",\"www\",\"gmail com\",\"mailto\",\"gmail\", \"com\",\"hotmail\",\"image004\",\"hola\",\"tarde\",\"gmail com\",\"muchas\",\"gracias\", \"buenos\",\"día\",\"cid\",\"mx\",\"ustede\",\"correo\", \"electronico\",\n",
    "                          \"saludos\",\"cordiales\", \"formato\",\"pdf\",\"solo\",\"ustedes\",\"quedo\",\"espera\",\"noche\", \"blue\", \"aerobu\",\"adjunto podrá\", \"términos\", \"condiciones\",\"correo electrónico\",\"saber\", \"si\",\"podrás encontrar\",\"quedo\",\"espera\",\"noche\",\n",
    "                          \"adjunto\",\"podrá\", \"png\",\"podrás\",\"encontrar\",\"grupos\",\"quedo\",\"favor\",\"hoy\", \"quisiera\", \"tardes\",\"adjunto podrá\", \"términos condiciones\",\"correo electrónico\",\"saber\", \"si\",\"image\",\"6c756af0\",\"noches\",\"01d57aa3\",\n",
    "                      \"com\", \"nbsp\",\"cognitoforms\",\"dia\",\"quedo\",\"gracias\",\"vea\",\"saludos\",\"favor\", \"días\",\"hola\",\"image004\",\"xx \",\"tarde\",\"gmail com\",\"muchas\",\"gracias\", \"buenos\",\"día\",\"cid\",\"mx\",\"ustede\",\"puedo\", \"hacer\"]\n",
    "new_stopwords_list = stop_words.union(new_stopwords)\n",
    "\n",
    "\n",
    "not_stopwords = {} \n",
    "final_stop_words = set([word for word in new_stopwords_list if word not in not_stopwords])\n",
    "print(final_stop_words)"
   ]
  },
  {
   "cell_type": "code",
   "execution_count": 8,
   "id": "2537726f",
   "metadata": {},
   "outputs": [],
   "source": [
    "# Remove Stop Words\n",
    "data_words_nostops = remove_stopwords(data_words)\n",
    "\n",
    "# Form Bigrams\n",
    "data_words_bigrams = make_bigrams(data_words_nostops)"
   ]
  },
  {
   "cell_type": "code",
   "execution_count": 9,
   "id": "117204f8",
   "metadata": {},
   "outputs": [
    {
     "name": "stdout",
     "output_type": "stream",
     "text": [
      "[[(0, 1), (1, 1), (2, 1), (3, 1), (4, 1), (5, 1), (6, 2), (7, 1), (8, 1), (9, 1), (10, 1), (11, 2), (12, 1), (13, 1), (14, 1), (15, 1), (16, 1), (17, 1), (18, 2), (19, 1), (20, 1), (21, 1), (22, 1), (23, 1), (24, 1), (25, 1), (26, 3), (27, 1), (28, 2), (29, 1), (30, 1), (31, 1), (32, 1), (33, 2), (34, 2), (35, 1), (36, 1), (37, 1), (38, 1), (39, 1), (40, 1), (41, 2), (42, 2), (43, 2), (44, 1), (45, 1), (46, 1), (47, 1), (48, 1), (49, 4), (50, 1), (51, 1), (52, 2), (53, 2), (54, 1), (55, 1), (56, 1), (57, 3), (58, 1), (59, 1), (60, 1), (61, 1), (62, 1), (63, 2), (64, 3), (65, 2)]]\n"
     ]
    }
   ],
   "source": [
    "# Create Dictionary\n",
    "# id2word = corpora.Dictionary(data_lemmatized)\n",
    "id2word = corpora.Dictionary(data_words_bigrams)\n",
    "\n",
    "# Create Corpus\n",
    "# texts = data_lemmatized\n",
    "texts = data_words_bigrams\n",
    "\n",
    "# Term Document Frequency\n",
    "corpus = [id2word.doc2bow(text) for text in texts]\n",
    "\n",
    "# View\n",
    "print(corpus[:1])"
   ]
  },
  {
   "cell_type": "code",
   "execution_count": 10,
   "id": "ff089413",
   "metadata": {},
   "outputs": [
    {
     "data": {
      "text/plain": [
       "[[('ademas', 1),\n",
       "  ('adicional', 1),\n",
       "  ('aleyda_garza', 1),\n",
       "  ('anexamos', 1),\n",
       "  ('aplicada', 1),\n",
       "  ('araujo', 1),\n",
       "  ('asi', 2),\n",
       "  ('aspi', 1),\n",
       "  ('brindo', 1),\n",
       "  ('call_center', 1),\n",
       "  ('caso', 1),\n",
       "  ('certificado', 2),\n",
       "  ('clientes', 1),\n",
       "  ('confusion', 1),\n",
       "  ('correspondiente', 1),\n",
       "  ('costo', 1),\n",
       "  ('cualquier', 1),\n",
       "  ('debe', 1),\n",
       "  ('dias', 2),\n",
       "  ('disculpamos', 1),\n",
       "  ('excedente', 1),\n",
       "  ('fecha', 1),\n",
       "  ('generada', 1),\n",
       "  ('genere', 1),\n",
       "  ('hacerlo_valido', 1),\n",
       "  ('inconvenientes', 1),\n",
       "  ('informacion', 3),\n",
       "  ('ir', 1),\n",
       "  ('labrada', 2),\n",
       "  ('maleta', 1),\n",
       "  ('maura', 1),\n",
       "  ('mayo', 1),\n",
       "  ('mayor', 1),\n",
       "  ('mismo', 2),\n",
       "  ('monto', 2),\n",
       "  ('mxn', 1),\n",
       "  ('numero', 1),\n",
       "  ('oct', 1),\n",
       "  ('ordenes', 1),\n",
       "  ('pagar', 1),\n",
       "  ('pasajero', 1),\n",
       "  ('politicas', 2),\n",
       "  ('posterior', 2),\n",
       "  ('puede', 2),\n",
       "  ('quedamos', 1),\n",
       "  ('recibido', 1),\n",
       "  ('reporte', 1),\n",
       "  ('reprogramacion', 1),\n",
       "  ('requiera', 1),\n",
       "  ('reservacion', 4),\n",
       "  ('residual', 1),\n",
       "  ('respecto', 1),\n",
       "  ('ser', 2),\n",
       "  ('servicio', 2),\n",
       "  ('shzkr', 1),\n",
       "  ('srita', 1),\n",
       "  ('tendra', 1),\n",
       "  ('titular', 3),\n",
       "  ('traves', 1),\n",
       "  ('unicamente', 1),\n",
       "  ('uso', 1),\n",
       "  ('validado', 1),\n",
       "  ('valido', 1),\n",
       "  ('vigencia', 2),\n",
       "  ('voucher', 3),\n",
       "  ('vuelo', 2)]]"
      ]
     },
     "execution_count": 10,
     "metadata": {},
     "output_type": "execute_result"
    }
   ],
   "source": [
    "# Human readable format of corpus (term-frequency)\n",
    "[[(id2word[id], freq) for id, freq in cp] for cp in corpus[:1]]"
   ]
  },
  {
   "cell_type": "code",
   "execution_count": 11,
   "id": "3f4e229a",
   "metadata": {},
   "outputs": [],
   "source": [
    "# Build LDA model\n",
    "lda_model = gensim.models.ldamodel.LdaModel(corpus=corpus,\n",
    "                                           id2word=id2word,\n",
    "                                           num_topics=4, \n",
    "                                           random_state=100,\n",
    "                                           update_every=1,\n",
    "                                           chunksize=100,\n",
    "                                           passes=10,\n",
    "                                           alpha='auto',\n",
    "                                           per_word_topics=True)"
   ]
  },
  {
   "cell_type": "code",
   "execution_count": 12,
   "id": "0050d4c6",
   "metadata": {},
   "outputs": [
    {
     "name": "stdout",
     "output_type": "stream",
     "text": [
      "[(0,\n",
      "  '0.027*\"covid\" + 0.021*\"viajar\" + 0.020*\"viaje\" + 0.018*\"prueba\" + '\n",
      "  '0.015*\"atencion\" + 0.014*\"numero\" + 0.014*\"boleto\" + 0.013*\"necesito\" + '\n",
      "  '0.013*\"boletos\" + 0.012*\"dias\"'),\n",
      " (1,\n",
      "  '0.022*\"reservacion\" + 0.021*\"cotizacion\" + 0.016*\"nombre\" + 0.014*\"clave\" + '\n",
      "  '0.010*\"fecha\" + 0.010*\"solicito\" + 0.009*\"pago\" + 0.008*\"presente\" + '\n",
      "  '0.008*\"respuesta\" + 0.008*\"apoyo\"'),\n",
      " (2,\n",
      "  '0.090*\"vuelo\" + 0.041*\"julio\" + 0.029*\"mexico\" + 0.023*\"monterrey\" + '\n",
      "  '0.020*\"cancun\" + 0.020*\"ciudad\" + 0.018*\"pm\" + 0.017*\"vuelos\" + '\n",
      "  '0.017*\"regreso\" + 0.013*\"mty\"'),\n",
      " (3,\n",
      "  '0.016*\"maleta\" + 0.015*\"mas\" + 0.011*\"vb\" + 0.010*\"aerolinea\" + '\n",
      "  '0.009*\"vuelo\" + 0.009*\"equipaje\" + 0.009*\"aeropuerto\" + 0.007*\"manana\" + '\n",
      "  '0.007*\"quiero\" + 0.007*\"informacion\"')]\n"
     ]
    }
   ],
   "source": [
    "# Print the Keyword in the 4 topics\n",
    "pprint(lda_model.print_topics())\n",
    "doc_lda = lda_model[corpus]"
   ]
  },
  {
   "cell_type": "code",
   "execution_count": 13,
   "id": "025d54c1",
   "metadata": {},
   "outputs": [
    {
     "name": "stdout",
     "output_type": "stream",
     "text": [
      "\n",
      "Perplexity:  -8.574979549521306\n",
      "\n",
      "Coherence Score:  0.6029944051045057\n"
     ]
    }
   ],
   "source": [
    "# Compute Perplexity\n",
    "print('\\nPerplexity: ', lda_model.log_perplexity(corpus))  # a measure of how good the model is. lower the better.\n",
    "\n",
    "# Compute Coherence Score\n",
    "coherence_model_lda = CoherenceModel(model=lda_model, texts=data_words_bigrams, dictionary=id2word, coherence='c_v')\n",
    "coherence_lda = coherence_model_lda.get_coherence()\n",
    "print('\\nCoherence Score: ', coherence_lda)"
   ]
  },
  {
   "cell_type": "code",
   "execution_count": 14,
   "id": "8b1d7210",
   "metadata": {},
   "outputs": [
    {
     "name": "stderr",
     "output_type": "stream",
     "text": [
      "C:\\ProgramData\\Anaconda3\\lib\\site-packages\\pyLDAvis\\_prepare.py:246: FutureWarning: In a future version of pandas all arguments of DataFrame.drop except for the argument 'labels' will be keyword-only.\n",
      "  default_term_info = default_term_info.sort_values(\n"
     ]
    },
    {
     "data": {
      "text/html": [
       "\n",
       "<link rel=\"stylesheet\" type=\"text/css\" href=\"https://cdn.jsdelivr.net/gh/bmabey/pyLDAvis@3.3.1/pyLDAvis/js/ldavis.v1.0.0.css\">\n",
       "\n",
       "\n",
       "<div id=\"ldavis_el3122819928375689926875810731\"></div>\n",
       "<script type=\"text/javascript\">\n",
       "\n",
       "var ldavis_el3122819928375689926875810731_data = {\"mdsDat\": {\"x\": [-0.21784607108452128, -0.14339211044838052, 0.33947813524310405, 0.021760046289797698], \"y\": [0.11047891649993516, -0.29981760608096547, -0.07253002217781972, 0.2618687117588501], \"topics\": [1, 2, 3, 4], \"cluster\": [1, 1, 1, 1], \"Freq\": [37.917355143033554, 25.62784834566503, 19.957018364786077, 16.49777814651534]}, \"tinfo\": {\"Term\": [\"vuelo\", \"julio\", \"mexico\", \"reservacion\", \"covid\", \"cotizacion\", \"monterrey\", \"cancun\", \"viajar\", \"ciudad\", \"nombre\", \"maleta\", \"pm\", \"viaje\", \"vuelos\", \"regreso\", \"prueba\", \"clave\", \"atencion\", \"mty\", \"boleto\", \"necesito\", \"vb\", \"am\", \"boletos\", \"solicito\", \"agosto\", \"cdmx\", \"personas\", \"numero\", \"reservacion\", \"cotizacion\", \"nombre\", \"clave\", \"solicito\", \"pago\", \"presente\", \"apoyo\", \"confirmacion\", \"datos\", \"factura\", \"cuenta\", \"grupo\", \"pasajero\", \"bluegrupos\", \"pendiente\", \"enviar\", \"tarjeta\", \"anexo\", \"realizar\", \"antemano\", \"comentarios\", \"envio\", \"nueva\", \"motivo\", \"rfc\", \"agradezco\", \"solicitar\", \"compra\", \"atenta\", \"fecha\", \"medio\", \"reserva\", \"siguiente\", \"respuesta\", \"dias\", \"pasajeros\", \"maleta\", \"vb\", \"aerolinea\", \"equipaje\", \"aeropuerto\", \"quiero\", \"manana\", \"ayer\", \"avion\", \"hora\", \"habia\", \"costo\", \"situacion\", \"llegar\", \"manera\", \"personal\", \"hace\", \"pagar\", \"llego\", \"dijeron\", \"tener\", \"maletas\", \"asientos\", \"hotel\", \"asiento\", \"solucion\", \"reporte\", \"tomar\", \"hacia\", \"extra\", \"gdl\", \"tambien\", \"mas\", \"asi\", \"persona\", \"parte\", \"informacion\", \"espero\", \"dos\", \"vuelo\", \"reembolso\", \"respuesta\", \"julio\", \"cancun\", \"pm\", \"vuelos\", \"regreso\", \"mty\", \"am\", \"agosto\", \"cdmx\", \"personas\", \"destino\", \"jul\", \"ruta\", \"podrian\", \"ayudar\", \"mex\", \"redondo\", \"cambiar\", \"fechas\", \"saliendo\", \"septiembre\", \"tijuana\", \"cotizar\", \"gustaria\", \"pesos\", \"dinero\", \"junio\", \"problema\", \"cun\", \"diciembre\", \"aun\", \"mexico\", \"ciudad\", \"monterrey\", \"vuelo\", \"horario\", \"salida\", \"horas\", \"aerobus\", \"cambio\", \"pasajeros\", \"pueden\", \"fecha\", \"viaje\", \"covid\", \"viajar\", \"prueba\", \"boleto\", \"necesito\", \"boletos\", \"abordar\", \"guadalajara\", \"positivo\", \"viajes\", \"anos\", \"buena\", \"despues\", \"algun\", \"duda\", \"sabado\", \"dieron\", \"resultado\", \"merida\", \"aparece\", \"precio\", \"agencia\", \"pase\", \"menor\", \"mostrador\", \"check_in\", \"linea\", \"veracruz\", \"hija\", \"positiva\", \"octubre\", \"enero\", \"puede\", \"viaje\", \"caso\", \"puedan\", \"atencion\", \"servicio\", \"mismo\", \"numero\", \"tiempo\", \"poder\", \"dias\", \"tenia\", \"respuesta\"], \"Freq\": [28348.0, 11424.0, 8110.0, 11492.0, 6178.0, 11274.0, 6666.0, 5618.0, 4862.0, 5616.0, 8407.0, 5851.0, 4927.0, 6493.0, 4734.0, 4669.0, 4116.0, 7649.0, 5218.0, 3622.0, 3129.0, 3014.0, 3990.0, 3368.0, 2907.0, 5233.0, 3128.0, 3086.0, 3085.0, 5511.0, 11492.238780207621, 11274.207009544733, 8406.425392224059, 7649.2855471744415, 5233.13358579035, 4847.710296701735, 4315.9188368428395, 4249.106438440874, 4170.735204633089, 3967.4440579119514, 3658.721360901973, 3367.643373346154, 3002.6863055817116, 2608.1663993109237, 2677.1635586678954, 2570.539851416993, 2431.7868873635557, 2407.207712232526, 2436.6385803639737, 2409.238384872707, 2415.687730400514, 2382.0682159566795, 2299.792182732239, 2321.757263118793, 2320.8061917019345, 2118.7040071293136, 2175.6962859586074, 2130.167735393446, 2112.074277513658, 2097.910194539335, 5365.830412136903, 3194.369711674304, 3158.387755491385, 2975.1745373712574, 4252.947095831742, 3680.8437244168967, 2496.5295380981365, 5850.5879109074685, 3989.922538520917, 3417.967377492935, 3293.627334665509, 3283.7336029690127, 2565.093621013755, 2583.224709877208, 2197.96498352508, 2103.359288599963, 2128.597572947763, 1881.5502752617601, 2000.3997986273023, 1898.6473758133018, 1701.0582721497547, 1790.0555148095407, 1578.386729337292, 1529.5535791731047, 1511.8374144547367, 1474.0740019707132, 1435.6719252201356, 1437.2118618690884, 1307.5426681974518, 1292.5176968332344, 1211.0866740272686, 1223.3416363820738, 1202.7798859985637, 1204.9966904982857, 1241.087865660194, 1255.1260218338787, 1247.7229146744037, 1620.8146333514512, 1904.195200651509, 5329.719911512371, 2096.9143439428585, 1438.6679167353075, 1407.2575942037315, 2469.439652958281, 2305.056108079344, 1645.3410022125286, 3319.487174718237, 1514.7280969595067, 1499.099010657069, 11424.125786195744, 5617.49965996661, 4926.9374851238945, 4733.49027759847, 4668.862832843474, 3621.498025038398, 3367.646068221655, 3128.3305005980433, 3086.1035459612726, 3085.2268250811403, 2854.202465544942, 2422.1123001003452, 2303.9779772690936, 2157.6161653628324, 2096.4891367273617, 2053.3559698618797, 1867.4009877038077, 1801.7501414139035, 1785.658471627277, 1721.6080483898777, 1657.7372895523758, 1524.2489686930396, 1498.8384207994288, 1491.1793364861683, 1526.566755864933, 1342.0151997247772, 1356.1370285135374, 1250.1484847682163, 1143.4013148851, 1157.3754282349237, 1164.8245807115875, 7917.5666705004305, 5458.073051291719, 6329.516532204694, 25028.663903465982, 2280.515539905975, 3206.2269826453826, 2453.0495008481043, 1823.4311978444193, 2796.53446166257, 2983.523581241217, 2235.4597440699577, 2579.310759781262, 1851.203381888732, 6178.069415895851, 4862.027885481002, 4115.5303525411755, 3129.3461777980187, 3014.1257622897483, 2907.247833685133, 2520.7199495070536, 2160.747948339361, 1704.5167790057642, 1857.1560604713093, 1621.9386691821053, 1543.712296502832, 1416.0084111337433, 1231.4093424904572, 1233.1706529784988, 1224.0608540263863, 1185.3518003354598, 1068.674710909111, 1137.7353615312907, 1100.1405997658062, 1103.5091381524487, 1079.276256013401, 1050.4402500764108, 1003.5476038107041, 1099.8412026454494, 987.0518917544761, 1005.4443914957072, 987.7571858280022, 874.7576019237497, 857.6385022919217, 1686.636248340343, 1118.978025013396, 2615.420969516587, 4641.8255805603185, 1958.9346145509905, 1642.1521449803636, 3358.175824596868, 2149.1991321317705, 2117.438230183981, 3147.095508368198, 1567.47908148201, 2113.6405915673413, 2743.151052133707, 1513.4855909417847, 1909.256078080364], \"Total\": [28348.0, 11424.0, 8110.0, 11492.0, 6178.0, 11274.0, 6666.0, 5618.0, 4862.0, 5616.0, 8407.0, 5851.0, 4927.0, 6493.0, 4734.0, 4669.0, 4116.0, 7649.0, 5218.0, 3622.0, 3129.0, 3014.0, 3990.0, 3368.0, 2907.0, 5233.0, 3128.0, 3086.0, 3085.0, 5511.0, 11492.865622224157, 11274.834731392537, 8407.045966220343, 7649.911009341002, 5233.7567731477475, 4848.332372338284, 4316.534107813436, 4249.722147672038, 4171.35741183627, 3968.0629500612704, 3659.3279012009866, 3368.2902426012456, 3003.3570695014746, 2608.791433278761, 2677.808578555826, 2571.174897153693, 2432.3954529088674, 2407.827289096858, 2437.2682828895763, 2409.861986295908, 2416.317479965184, 2382.698481481252, 2300.41040664149, 2322.3886294169097, 2321.4408788517153, 2119.3076543347497, 2176.3187356784533, 2130.797379803637, 2112.709056723245, 2098.5450736002967, 7945.570067616435, 4011.1521773486734, 4133.092865987809, 3879.2809779609984, 7661.496155930626, 7533.090625708586, 5480.487470807667, 5851.161581218472, 3990.5845833684407, 3418.5653423788367, 3294.2073689112667, 3284.3171395214667, 2565.694833872132, 2583.8792968459193, 2198.568717554092, 2103.9502133104334, 2129.203508528912, 1882.1328358754367, 2001.0213410662639, 1899.2468135945926, 1701.6451694287466, 1790.6891945953575, 1578.9619548103924, 1530.1484954287284, 1512.435555920293, 1474.66009184724, 1436.2598961505607, 1437.8253892494538, 1308.1198173939674, 1293.1248583203362, 1211.668315474459, 1223.932301885962, 1203.3649643599215, 1205.5834848209633, 1241.7004792677187, 1255.7575901396347, 1248.3529186733613, 1621.6953617933234, 2064.311608199792, 7569.009249085847, 2651.032742305296, 1546.6901536460327, 1513.8410146359736, 4119.951026940947, 3959.0888659944458, 2634.1364554355, 28348.55311637845, 3195.1588954638382, 7661.496155930626, 11424.757255467524, 5618.112630234537, 4927.546452517871, 4734.107112726104, 4669.4778469861885, 3622.103693287715, 3368.2589092249955, 3128.941408654769, 3086.7225528469935, 3085.8558039315153, 2854.8205938463952, 2422.768021298438, 2304.602429322846, 2158.25102107113, 2097.119918813133, 2053.9761006178537, 1868.0139695974844, 1802.3564317436844, 1786.2739093684302, 1722.2173565341875, 1658.365075561671, 1524.8680579949641, 1499.4501470011055, 1491.8017531399053, 1527.223141377048, 1342.6509507965895, 1356.7819240825672, 1250.7905598415982, 1144.0054146378936, 1158.003357646309, 1165.477363536802, 8110.946985352691, 5616.159871682485, 6666.758026343039, 28348.55311637845, 2372.3107527411894, 3600.865833867314, 2783.0431310260274, 1938.5441218903086, 4720.0963435908825, 5480.487470807667, 3318.2091050503177, 7945.570067616435, 6493.429482087102, 6178.642214872994, 4862.605335338179, 4116.099182132328, 3129.9408386337764, 3014.7146741324827, 2907.8411038159516, 2521.315391239604, 2161.346481152451, 1705.08808528604, 1857.7927283531856, 1622.5528051222961, 1544.3475426599655, 1416.6050534391402, 1232.0029904105606, 1233.7692478901222, 1224.6775371005772, 1185.9709564019304, 1069.2450166485514, 1138.345738796411, 1100.740465576285, 1104.1300908684175, 1079.8836596181734, 1051.0340991624473, 1004.1300038644832, 1100.485008245881, 987.6322735254753, 1006.0453935908715, 988.358604103596, 875.3355041471033, 858.2124828111572, 1687.9719040644793, 1119.7641759846624, 2980.826623243741, 6493.429482087102, 2383.3197491969418, 1956.8333491473422, 5218.973514062837, 2901.033140959463, 2980.933532074705, 5511.660714224301, 1922.3922237409188, 3676.0051391461593, 7533.090625708586, 2716.3850471997584, 7661.496155930626], \"Category\": [\"Default\", \"Default\", \"Default\", \"Default\", \"Default\", \"Default\", \"Default\", \"Default\", \"Default\", \"Default\", \"Default\", \"Default\", \"Default\", \"Default\", \"Default\", \"Default\", \"Default\", \"Default\", \"Default\", \"Default\", \"Default\", \"Default\", \"Default\", \"Default\", \"Default\", \"Default\", \"Default\", \"Default\", \"Default\", \"Default\", \"Topic1\", \"Topic1\", \"Topic1\", \"Topic1\", \"Topic1\", \"Topic1\", \"Topic1\", \"Topic1\", \"Topic1\", \"Topic1\", \"Topic1\", \"Topic1\", \"Topic1\", \"Topic1\", \"Topic1\", \"Topic1\", \"Topic1\", \"Topic1\", \"Topic1\", \"Topic1\", \"Topic1\", \"Topic1\", \"Topic1\", \"Topic1\", \"Topic1\", \"Topic1\", \"Topic1\", \"Topic1\", \"Topic1\", \"Topic1\", \"Topic1\", \"Topic1\", \"Topic1\", \"Topic1\", \"Topic1\", \"Topic1\", \"Topic1\", \"Topic2\", \"Topic2\", \"Topic2\", \"Topic2\", \"Topic2\", \"Topic2\", \"Topic2\", \"Topic2\", \"Topic2\", \"Topic2\", \"Topic2\", \"Topic2\", \"Topic2\", \"Topic2\", \"Topic2\", \"Topic2\", \"Topic2\", \"Topic2\", \"Topic2\", \"Topic2\", \"Topic2\", \"Topic2\", \"Topic2\", \"Topic2\", \"Topic2\", \"Topic2\", \"Topic2\", \"Topic2\", \"Topic2\", \"Topic2\", \"Topic2\", \"Topic2\", \"Topic2\", \"Topic2\", \"Topic2\", \"Topic2\", \"Topic2\", \"Topic2\", \"Topic2\", \"Topic2\", \"Topic2\", \"Topic2\", \"Topic3\", \"Topic3\", \"Topic3\", \"Topic3\", \"Topic3\", \"Topic3\", \"Topic3\", \"Topic3\", \"Topic3\", \"Topic3\", \"Topic3\", \"Topic3\", \"Topic3\", \"Topic3\", \"Topic3\", \"Topic3\", \"Topic3\", \"Topic3\", \"Topic3\", \"Topic3\", \"Topic3\", \"Topic3\", \"Topic3\", \"Topic3\", \"Topic3\", \"Topic3\", \"Topic3\", \"Topic3\", \"Topic3\", \"Topic3\", \"Topic3\", \"Topic3\", \"Topic3\", \"Topic3\", \"Topic3\", \"Topic3\", \"Topic3\", \"Topic3\", \"Topic3\", \"Topic3\", \"Topic3\", \"Topic3\", \"Topic3\", \"Topic3\", \"Topic4\", \"Topic4\", \"Topic4\", \"Topic4\", \"Topic4\", \"Topic4\", \"Topic4\", \"Topic4\", \"Topic4\", \"Topic4\", \"Topic4\", \"Topic4\", \"Topic4\", \"Topic4\", \"Topic4\", \"Topic4\", \"Topic4\", \"Topic4\", \"Topic4\", \"Topic4\", \"Topic4\", \"Topic4\", \"Topic4\", \"Topic4\", \"Topic4\", \"Topic4\", \"Topic4\", \"Topic4\", \"Topic4\", \"Topic4\", \"Topic4\", \"Topic4\", \"Topic4\", \"Topic4\", \"Topic4\", \"Topic4\", \"Topic4\", \"Topic4\", \"Topic4\", \"Topic4\", \"Topic4\", \"Topic4\", \"Topic4\", \"Topic4\", \"Topic4\"], \"logprob\": [30.0, 29.0, 28.0, 27.0, 26.0, 25.0, 24.0, 23.0, 22.0, 21.0, 20.0, 19.0, 18.0, 17.0, 16.0, 15.0, 14.0, 13.0, 12.0, 11.0, 10.0, 9.0, 8.0, 7.0, 6.0, 5.0, 4.0, 3.0, 2.0, 1.0, -3.827, -3.8461, -4.1396, -4.234, -4.6136, -4.6901, -4.8063, -4.8219, -4.8405, -4.8905, -4.9715, -5.0544, -5.1691, -5.31, -5.2839, -5.3245, -5.38, -5.3902, -5.378, -5.3893, -5.3866, -5.4007, -5.4358, -5.4263, -5.4267, -5.5178, -5.4913, -5.5124, -5.521, -5.5277, -4.5886, -5.1072, -5.1186, -5.1783, -4.821, -4.9655, -5.3537, -4.1104, -4.4931, -4.6479, -4.6849, -4.6879, -4.9349, -4.9279, -5.0894, -5.1334, -5.1214, -5.2448, -5.1836, -5.2358, -5.3457, -5.2947, -5.4205, -5.4519, -5.4636, -5.4889, -5.5153, -5.5142, -5.6088, -5.6203, -5.6854, -5.6753, -5.6923, -5.6904, -5.6609, -5.6497, -5.6556, -5.394, -5.2328, -4.2036, -5.1364, -5.5132, -5.5353, -4.9729, -5.0418, -5.379, -4.6771, -5.4617, -5.472, -3.1911, -3.9009, -4.0321, -4.0721, -4.0859, -4.3399, -4.4126, -4.4863, -4.4999, -4.5002, -4.578, -4.7422, -4.7922, -4.8578, -4.8865, -4.9073, -5.0023, -5.038, -5.047, -5.0835, -5.1213, -5.2053, -5.2221, -5.2272, -5.2038, -5.3326, -5.3222, -5.4035, -5.4928, -5.4806, -5.4742, -3.5577, -3.9297, -3.7816, -2.4068, -4.8024, -4.4617, -4.7295, -5.0261, -4.5984, -4.5337, -4.8224, -4.6793, -5.011, -3.6154, -3.855, -4.0217, -4.2956, -4.3331, -4.3692, -4.5119, -4.666, -4.9032, -4.8174, -4.9528, -5.0023, -5.0886, -5.2283, -5.2269, -5.2343, -5.2664, -5.37, -5.3074, -5.341, -5.338, -5.3602, -5.3872, -5.4329, -5.3413, -5.4495, -5.431, -5.4488, -5.5703, -5.59, -4.9137, -5.324, -4.475, -3.9013, -4.764, -4.9404, -4.2251, -4.6714, -4.6862, -4.29, -4.987, -4.688, -4.4273, -5.022, -4.7897], \"loglift\": [30.0, 29.0, 28.0, 27.0, 26.0, 25.0, 24.0, 23.0, 22.0, 21.0, 20.0, 19.0, 18.0, 17.0, 16.0, 15.0, 14.0, 13.0, 12.0, 11.0, 10.0, 9.0, 8.0, 7.0, 6.0, 5.0, 4.0, 3.0, 2.0, 1.0, 0.9697, 0.9697, 0.9697, 0.9697, 0.9696, 0.9696, 0.9696, 0.9696, 0.9696, 0.9696, 0.9696, 0.9696, 0.9695, 0.9695, 0.9695, 0.9695, 0.9695, 0.9695, 0.9695, 0.9695, 0.9695, 0.9695, 0.9695, 0.9695, 0.9695, 0.9695, 0.9695, 0.9695, 0.9695, 0.9695, 0.5772, 0.7421, 0.7008, 0.7044, 0.3812, 0.2536, 0.1835, 1.3614, 1.3613, 1.3613, 1.3613, 1.3613, 1.3613, 1.3612, 1.3612, 1.3612, 1.3612, 1.3612, 1.3612, 1.3612, 1.3611, 1.3611, 1.3611, 1.3611, 1.3611, 1.3611, 1.3611, 1.3611, 1.361, 1.361, 1.361, 1.361, 1.361, 1.361, 1.361, 1.361, 1.361, 1.3609, 1.2808, 1.0107, 1.127, 1.2891, 1.2885, 0.8496, 0.8206, 0.8909, -0.7833, 0.6151, -0.2699, 1.6115, 1.6115, 1.6115, 1.6115, 1.6115, 1.6114, 1.6114, 1.6114, 1.6114, 1.6114, 1.6114, 1.6113, 1.6113, 1.6113, 1.6113, 1.6113, 1.6113, 1.6113, 1.6112, 1.6112, 1.6112, 1.6112, 1.6112, 1.6112, 1.6112, 1.6111, 1.6111, 1.6111, 1.6111, 1.611, 1.611, 1.5875, 1.583, 1.5597, 1.487, 1.5721, 1.4955, 1.4854, 1.5504, 1.0881, 1.0035, 1.2166, 0.4865, 0.3566, 1.8019, 1.8018, 1.8018, 1.8018, 1.8017, 1.8017, 1.8017, 1.8017, 1.8016, 1.8016, 1.8016, 1.8015, 1.8015, 1.8015, 1.8015, 1.8014, 1.8014, 1.8014, 1.8014, 1.8014, 1.8014, 1.8014, 1.8014, 1.8014, 1.8014, 1.8014, 1.8013, 1.8013, 1.8013, 1.8013, 1.8012, 1.8012, 1.6712, 1.4663, 1.6059, 1.6266, 1.361, 1.502, 1.4599, 1.2416, 1.5978, 1.2485, 0.7917, 1.2171, 0.4125]}, \"token.table\": {\"Topic\": [4, 1, 3, 2, 2, 4, 3, 1, 4, 3, 1, 4, 1, 4, 1, 1, 2, 3, 2, 2, 1, 4, 1, 3, 2, 2, 3, 1, 4, 4, 4, 3, 1, 3, 3, 1, 2, 4, 3, 4, 3, 4, 1, 1, 1, 1, 2, 1, 3, 4, 1, 3, 1, 4, 3, 1, 3, 4, 3, 4, 2, 3, 2, 3, 4, 4, 1, 1, 2, 1, 2, 2, 1, 1, 3, 3, 2, 1, 4, 3, 2, 2, 2, 4, 2, 3, 4, 3, 4, 2, 1, 2, 3, 3, 3, 4, 2, 2, 2, 2, 2, 2, 1, 2, 3, 1, 4, 4, 4, 3, 3, 4, 1, 4, 3, 4, 4, 1, 3, 4, 1, 1, 1, 2, 4, 3, 4, 2, 1, 1, 2, 1, 1, 3, 4, 1, 1, 2, 2, 3, 3, 3, 1, 2, 4, 3, 4, 4, 4, 1, 3, 4, 2, 4, 1, 2, 4, 1, 3, 2, 1, 3, 1, 2, 3, 2, 1, 4, 1, 1, 2, 4, 4, 1, 3, 4, 3, 4, 3, 3, 2, 4, 1, 4, 2, 1, 1, 2, 1, 2, 1, 2, 3, 4, 3, 4, 3, 2, 2, 4, 4, 3, 4, 4, 2, 3, 3], \"Freq\": [0.9998749100407271, 0.059322869519142785, 0.9403964446382373, 0.9998346258379711, 0.9999034382162275, 0.9991817085013714, 0.9996991287046267, 0.9998535436591948, 0.9991858863830952, 0.9999231326237166, 0.9998899247606594, 0.9996592991485078, 0.9998686099952443, 0.9993273023029118, 0.9998300717912973, 0.10260152417562113, 0.7910124860157262, 0.10637363903501897, 0.999238273322368, 0.9999034444976193, 0.3563919217041662, 0.6434215446680592, 0.9997402611899293, 0.9995904137208179, 0.9995483670172317, 0.999741323730502, 0.9994659729264471, 0.999698044676419, 0.9996994068954392, 0.9997107462939265, 0.9997749582588341, 0.999802241256276, 0.4074069383374174, 0.5925726503014854, 0.9998019565808365, 0.01636372963096581, 0.1615393822544061, 0.8219627268477442, 0.9997659158428972, 0.9993598087644319, 0.9718384313666086, 0.028133102263819012, 0.9998809124263159, 0.9997068527609847, 0.9996643850600306, 0.999914317618707, 0.9994895901181545, 0.9999259650884095, 0.9996997919523994, 0.9998960588992435, 0.999913830881444, 0.999121145210478, 0.9997321236899092, 0.9995728848787662, 0.999712558523585, 0.48864406163356805, 0.14721713239653, 0.3641267756209935, 0.9991335451320725, 0.9991812983305458, 0.9998190465727983, 0.9995151749632297, 0.6244930844814693, 0.37507548174327765, 0.9993765058649032, 0.9993175563202936, 0.9998374224436267, 0.9998215941641085, 0.9999370504379221, 0.4177728906786101, 0.5822046632492117, 0.9997172925475784, 0.9999103930530853, 0.6753448719645774, 0.3245833814380628, 0.9998466588091593, 0.9995712130590578, 0.9998811098736475, 0.9998396919903993, 0.9994625605324449, 0.9999294226885028, 0.9999029535831508, 0.9993967067007332, 0.9996167136537776, 0.9999044203486905, 0.9615097842322383, 0.03835922418462678, 0.8814092647912539, 0.11857523741586375, 0.999448433646466, 0.40049019738594344, 0.5992789680884207, 0.9996829984168165, 0.9999337180256358, 0.9994236921433811, 0.9989608882486503, 0.9996208554871853, 0.999552376950533, 0.9999723847622, 0.9999084048782273, 0.9996596989468538, 0.9996151232735208, 0.10860073927103177, 0.704187275321897, 0.18721076343923604, 0.7962799362329849, 0.20343282027743131, 0.9998705308436329, 0.9996962796234679, 0.9995247750849876, 0.9762115341524081, 0.023795002032257484, 0.28950662291331236, 0.7101802093945334, 0.9494869882764047, 0.05054930727474698, 0.9995592777345925, 0.9998100839630543, 0.9996952894281408, 0.9997629380522758, 0.9998755845722094, 0.9998326596108906, 0.3198672943438103, 0.10922297855642302, 0.5709712849120652, 0.0005924269222681331, 0.9994242178663406, 0.999712016873322, 0.9999314460493303, 0.07002056290930216, 0.929423886918756, 0.9996966283817613, 0.45561640516477886, 0.5444771137411695, 0.999016112642519, 0.9999319777297582, 0.0698265258529061, 0.9303738027993691, 0.9993907675815356, 0.9997226688523732, 0.9998538907832114, 0.9998891025131601, 0.22850892972230996, 0.19640886578512834, 0.5750808064678135, 0.9998836923654019, 0.9997524123507722, 0.9999483397445562, 0.9998821779521332, 0.999876264660467, 0.9993679518642207, 0.9999759038526675, 0.16046333232046578, 0.8391108014974675, 0.01006432234805859, 0.11272041029825619, 0.877273431339107, 0.32607951028559196, 0.6735561048875213, 0.9997291829632429, 0.9996423088538638, 0.9994571937822805, 0.5257954471012672, 0.4741548228323928, 0.999897665862898, 0.9995160145868703, 0.7640767102011965, 0.2356588713540106, 0.9999246817762767, 0.5551135070018706, 0.19565369080550293, 0.2491680425268213, 0.9997708507921604, 0.9998548326222857, 0.999738597288981, 0.9994467628579347, 0.8903414200680646, 0.10941812835521443, 0.9998737926235833, 0.9997798581464052, 0.25887329220638294, 0.7407705791631385, 0.7668946943780545, 0.23303287519924748, 0.9998700465927725, 0.999625783375184, 0.9998554053654862, 0.9996967134903121, 0.0775076782809597, 0.9223413715434204, 0.9996564167618649, 0.9994259461158321, 0.44249985886172744, 0.5569902549565671, 0.18466574906820027, 0.8151302219432952, 0.9994307323899843, 0.9994358709854636, 0.9998535093402413, 0.999637172072862, 0.9998755121387746, 0.2850573807117185, 0.7148764782624513, 0.9995732955883145, 0.11707828566680671, 0.8829022030595075, 0.9997661411751484], \"Term\": [\"abordar\", \"aerobus\", \"aerobus\", \"aerolinea\", \"aeropuerto\", \"agencia\", \"agosto\", \"agradezco\", \"algun\", \"am\", \"anexo\", \"anos\", \"antemano\", \"aparece\", \"apoyo\", \"asi\", \"asi\", \"asi\", \"asiento\", \"asientos\", \"atencion\", \"atencion\", \"atenta\", \"aun\", \"avion\", \"ayer\", \"ayudar\", \"bluegrupos\", \"boleto\", \"boletos\", \"buena\", \"cambiar\", \"cambio\", \"cambio\", \"cancun\", \"caso\", \"caso\", \"caso\", \"cdmx\", \"check_in\", \"ciudad\", \"ciudad\", \"clave\", \"comentarios\", \"compra\", \"confirmacion\", \"costo\", \"cotizacion\", \"cotizar\", \"covid\", \"cuenta\", \"cun\", \"datos\", \"despues\", \"destino\", \"dias\", \"dias\", \"dias\", \"diciembre\", \"dieron\", \"dijeron\", \"dinero\", \"dos\", \"dos\", \"duda\", \"enero\", \"enviar\", \"envio\", \"equipaje\", \"espero\", \"espero\", \"extra\", \"factura\", \"fecha\", \"fecha\", \"fechas\", \"gdl\", \"grupo\", \"guadalajara\", \"gustaria\", \"habia\", \"hace\", \"hacia\", \"hija\", \"hora\", \"horario\", \"horario\", \"horas\", \"horas\", \"hotel\", \"informacion\", \"informacion\", \"jul\", \"julio\", \"junio\", \"linea\", \"llegar\", \"llego\", \"maleta\", \"maletas\", \"manana\", \"manera\", \"mas\", \"mas\", \"mas\", \"medio\", \"medio\", \"menor\", \"merida\", \"mex\", \"mexico\", \"mexico\", \"mismo\", \"mismo\", \"monterrey\", \"monterrey\", \"mostrador\", \"motivo\", \"mty\", \"necesito\", \"nombre\", \"nueva\", \"numero\", \"numero\", \"numero\", \"octubre\", \"octubre\", \"pagar\", \"pago\", \"parte\", \"parte\", \"pasajero\", \"pasajeros\", \"pasajeros\", \"pase\", \"pendiente\", \"persona\", \"persona\", \"personal\", \"personas\", \"pesos\", \"pm\", \"poder\", \"poder\", \"poder\", \"podrian\", \"positiva\", \"positivo\", \"precio\", \"presente\", \"problema\", \"prueba\", \"puedan\", \"puedan\", \"puede\", \"puede\", \"puede\", \"pueden\", \"pueden\", \"quiero\", \"realizar\", \"redondo\", \"reembolso\", \"reembolso\", \"regreso\", \"reporte\", \"reserva\", \"reserva\", \"reservacion\", \"respuesta\", \"respuesta\", \"respuesta\", \"resultado\", \"rfc\", \"ruta\", \"sabado\", \"salida\", \"salida\", \"saliendo\", \"septiembre\", \"servicio\", \"servicio\", \"siguiente\", \"siguiente\", \"situacion\", \"solicitar\", \"solicito\", \"solucion\", \"tambien\", \"tambien\", \"tarjeta\", \"tener\", \"tenia\", \"tenia\", \"tiempo\", \"tiempo\", \"tijuana\", \"tomar\", \"vb\", \"veracruz\", \"viajar\", \"viaje\", \"viaje\", \"viajes\", \"vuelo\", \"vuelo\", \"vuelos\"]}, \"R\": 30, \"lambda.step\": 0.01, \"plot.opts\": {\"xlab\": \"PC1\", \"ylab\": \"PC2\"}, \"topic.order\": [2, 4, 3, 1]};\n",
       "\n",
       "function LDAvis_load_lib(url, callback){\n",
       "  var s = document.createElement('script');\n",
       "  s.src = url;\n",
       "  s.async = true;\n",
       "  s.onreadystatechange = s.onload = callback;\n",
       "  s.onerror = function(){console.warn(\"failed to load library \" + url);};\n",
       "  document.getElementsByTagName(\"head\")[0].appendChild(s);\n",
       "}\n",
       "\n",
       "if(typeof(LDAvis) !== \"undefined\"){\n",
       "   // already loaded: just create the visualization\n",
       "   !function(LDAvis){\n",
       "       new LDAvis(\"#\" + \"ldavis_el3122819928375689926875810731\", ldavis_el3122819928375689926875810731_data);\n",
       "   }(LDAvis);\n",
       "}else if(typeof define === \"function\" && define.amd){\n",
       "   // require.js is available: use it to load d3/LDAvis\n",
       "   require.config({paths: {d3: \"https://d3js.org/d3.v5\"}});\n",
       "   require([\"d3\"], function(d3){\n",
       "      window.d3 = d3;\n",
       "      LDAvis_load_lib(\"https://cdn.jsdelivr.net/gh/bmabey/pyLDAvis@3.3.1/pyLDAvis/js/ldavis.v3.0.0.js\", function(){\n",
       "        new LDAvis(\"#\" + \"ldavis_el3122819928375689926875810731\", ldavis_el3122819928375689926875810731_data);\n",
       "      });\n",
       "    });\n",
       "}else{\n",
       "    // require.js not available: dynamically load d3 & LDAvis\n",
       "    LDAvis_load_lib(\"https://d3js.org/d3.v5.js\", function(){\n",
       "         LDAvis_load_lib(\"https://cdn.jsdelivr.net/gh/bmabey/pyLDAvis@3.3.1/pyLDAvis/js/ldavis.v3.0.0.js\", function(){\n",
       "                 new LDAvis(\"#\" + \"ldavis_el3122819928375689926875810731\", ldavis_el3122819928375689926875810731_data);\n",
       "            })\n",
       "         });\n",
       "}\n",
       "</script>"
      ],
      "text/plain": [
       "PreparedData(topic_coordinates=              x         y  topics  cluster       Freq\n",
       "topic                                                \n",
       "1     -0.217846  0.110479       1        1  37.917355\n",
       "3     -0.143392 -0.299818       2        1  25.627848\n",
       "2      0.339478 -0.072530       3        1  19.957018\n",
       "0      0.021760  0.261869       4        1  16.497778, topic_info=             Term          Freq         Total Category  logprob  loglift\n",
       "65          vuelo  28348.000000  28348.000000  Default  30.0000  30.0000\n",
       "655         julio  11424.000000  11424.000000  Default  29.0000  29.0000\n",
       "178        mexico   8110.000000   8110.000000  Default  28.0000  28.0000\n",
       "49    reservacion  11492.000000  11492.000000  Default  27.0000  27.0000\n",
       "949         covid   6178.000000   6178.000000  Default  26.0000  26.0000\n",
       "...           ...           ...           ...      ...      ...      ...\n",
       "194        tiempo   1567.479081   1922.392224   Topic4  -4.9870   1.5978\n",
       "247         poder   2113.640592   3676.005139   Topic4  -4.6880   1.2485\n",
       "18           dias   2743.151052   7533.090626   Topic4  -4.4273   0.7917\n",
       "1219        tenia   1513.485591   2716.385047   Topic4  -5.0220   1.2171\n",
       "185     respuesta   1909.256078   7661.496156   Topic4  -4.7897   0.4125\n",
       "\n",
       "[198 rows x 6 columns], token_table=      Topic      Freq        Term\n",
       "term                             \n",
       "1212      4  0.999875     abordar\n",
       "81        1  0.059323     aerobus\n",
       "81        3  0.940396     aerobus\n",
       "120       2  0.999835   aerolinea\n",
       "768       2  0.999903  aeropuerto\n",
       "...     ...       ...         ...\n",
       "197       4  0.714876       viaje\n",
       "1696      4  0.999573      viajes\n",
       "65        2  0.117078       vuelo\n",
       "65        3  0.882902       vuelo\n",
       "276       3  0.999766      vuelos\n",
       "\n",
       "[207 rows x 3 columns], R=30, lambda_step=0.01, plot_opts={'xlab': 'PC1', 'ylab': 'PC2'}, topic_order=[2, 4, 3, 1])"
      ]
     },
     "execution_count": 14,
     "metadata": {},
     "output_type": "execute_result"
    }
   ],
   "source": [
    "# Visualize the topics\n",
    "pyLDAvis.enable_notebook()\n",
    "vis = pyLDAvis.gensim_models.prepare(lda_model, corpus, id2word)\n",
    "vis"
   ]
  },
  {
   "cell_type": "markdown",
   "id": "c72fa8ad",
   "metadata": {},
   "source": [
    "## Building LDA Mallet Model"
   ]
  },
  {
   "cell_type": "code",
   "execution_count": 15,
   "id": "0f4751a4",
   "metadata": {},
   "outputs": [
    {
     "name": "stdout",
     "output_type": "stream",
     "text": [
      "Requirement already satisfied: gensim==3.8.3. in c:\\programdata\\anaconda3\\lib\\site-packages (3.8.3)\n",
      "Requirement already satisfied: scipy>=0.18.1 in c:\\programdata\\anaconda3\\lib\\site-packages (from gensim==3.8.3.) (1.7.1)\n",
      "Requirement already satisfied: numpy>=1.11.3 in c:\\programdata\\anaconda3\\lib\\site-packages (from gensim==3.8.3.) (1.20.0)\n",
      "Requirement already satisfied: smart-open>=1.8.1 in c:\\programdata\\anaconda3\\lib\\site-packages (from gensim==3.8.3.) (5.2.1)\n",
      "Requirement already satisfied: six>=1.5.0 in c:\\programdata\\anaconda3\\lib\\site-packages (from gensim==3.8.3.) (1.16.0)\n",
      "Note: you may need to restart the kernel to use updated packages.\n"
     ]
    }
   ],
   "source": [
    "pip install --user gensim==3.8.3."
   ]
  },
  {
   "cell_type": "code",
   "execution_count": 16,
   "id": "a4eadfe8",
   "metadata": {},
   "outputs": [
    {
     "name": "stdout",
     "output_type": "stream",
     "text": [
      "Requirement already satisfied: wget in c:\\programdata\\anaconda3\\lib\\site-packages (3.2)\n",
      "Note: you may need to restart the kernel to use updated packages.\n"
     ]
    }
   ],
   "source": [
    "pip install wget"
   ]
  },
  {
   "cell_type": "code",
   "execution_count": 19,
   "id": "97447541",
   "metadata": {},
   "outputs": [
    {
     "name": "stdout",
     "output_type": "stream",
     "text": [
      "\n",
      "Saved under mallet-2.0.8.zip\n"
     ]
    }
   ],
   "source": [
    "!python -m wget http://mallet.cs.umass.edu/dist/mallet-2.0.8.zip"
   ]
  },
  {
   "cell_type": "code",
   "execution_count": 22,
   "id": "1cb99cad",
   "metadata": {},
   "outputs": [
    {
     "name": "stderr",
     "output_type": "stream",
     "text": [
      "\"unzip\" no se reconoce como un comando interno o externo,\n",
      "programa o archivo por lotes ejecutable.\n"
     ]
    }
   ],
   "source": [
    "! unzip ~/mallet-2.0.8.zip -d ~/"
   ]
  },
  {
   "cell_type": "code",
   "execution_count": 18,
   "id": "ab532ca3",
   "metadata": {},
   "outputs": [
    {
     "ename": "CalledProcessError",
     "evalue": "Command 'C://Users//gabov//Desktop//aerolinea_sentiment//data//mallet-208//bin import-file --preserve-case --keep-sequence --remove-stopwords --token-regex \"\\S+\" --input C:\\Users\\gabov\\AppData\\Local\\Temp\\7bdd9d_corpus.txt --output C:\\Users\\gabov\\AppData\\Local\\Temp\\7bdd9d_corpus.mallet' returned non-zero exit status 1.",
     "output_type": "error",
     "traceback": [
      "\u001b[1;31m---------------------------------------------------------------------------\u001b[0m",
      "\u001b[1;31mCalledProcessError\u001b[0m                        Traceback (most recent call last)",
      "\u001b[1;32m~\\AppData\\Local\\Temp/ipykernel_31228/975026118.py\u001b[0m in \u001b[0;36m<module>\u001b[1;34m\u001b[0m\n\u001b[0;32m      1\u001b[0m \u001b[1;31m# Download File: http://mallet.cs.umass.edu/dist/mallet-2.0.8.zip\u001b[0m\u001b[1;33m\u001b[0m\u001b[1;33m\u001b[0m\u001b[0m\n\u001b[0;32m      2\u001b[0m \u001b[0mmallet_path\u001b[0m \u001b[1;33m=\u001b[0m \u001b[1;34m'C://Users//gabov//Desktop//aerolinea_sentiment//data//mallet-208//bin'\u001b[0m\u001b[1;33m\u001b[0m\u001b[1;33m\u001b[0m\u001b[0m\n\u001b[1;32m----> 3\u001b[1;33m \u001b[0mldamallet\u001b[0m \u001b[1;33m=\u001b[0m \u001b[0mgensim\u001b[0m\u001b[1;33m.\u001b[0m\u001b[0mmodels\u001b[0m\u001b[1;33m.\u001b[0m\u001b[0mwrappers\u001b[0m\u001b[1;33m.\u001b[0m\u001b[0mLdaMallet\u001b[0m\u001b[1;33m(\u001b[0m\u001b[0mmallet_path\u001b[0m\u001b[1;33m,\u001b[0m \u001b[0mcorpus\u001b[0m\u001b[1;33m=\u001b[0m\u001b[0mcorpus\u001b[0m\u001b[1;33m,\u001b[0m \u001b[0mnum_topics\u001b[0m\u001b[1;33m=\u001b[0m\u001b[1;36m20\u001b[0m\u001b[1;33m,\u001b[0m \u001b[0mid2word\u001b[0m\u001b[1;33m=\u001b[0m\u001b[0mid2word\u001b[0m\u001b[1;33m)\u001b[0m\u001b[1;33m\u001b[0m\u001b[1;33m\u001b[0m\u001b[0m\n\u001b[0m",
      "\u001b[1;32mC:\\ProgramData\\Anaconda3\\lib\\site-packages\\gensim\\models\\wrappers\\ldamallet.py\u001b[0m in \u001b[0;36m__init__\u001b[1;34m(self, mallet_path, corpus, num_topics, alpha, id2word, workers, prefix, optimize_interval, iterations, topic_threshold, random_seed)\u001b[0m\n\u001b[0;32m    129\u001b[0m         \u001b[0mself\u001b[0m\u001b[1;33m.\u001b[0m\u001b[0mrandom_seed\u001b[0m \u001b[1;33m=\u001b[0m \u001b[0mrandom_seed\u001b[0m\u001b[1;33m\u001b[0m\u001b[1;33m\u001b[0m\u001b[0m\n\u001b[0;32m    130\u001b[0m         \u001b[1;32mif\u001b[0m \u001b[0mcorpus\u001b[0m \u001b[1;32mis\u001b[0m \u001b[1;32mnot\u001b[0m \u001b[1;32mNone\u001b[0m\u001b[1;33m:\u001b[0m\u001b[1;33m\u001b[0m\u001b[1;33m\u001b[0m\u001b[0m\n\u001b[1;32m--> 131\u001b[1;33m             \u001b[0mself\u001b[0m\u001b[1;33m.\u001b[0m\u001b[0mtrain\u001b[0m\u001b[1;33m(\u001b[0m\u001b[0mcorpus\u001b[0m\u001b[1;33m)\u001b[0m\u001b[1;33m\u001b[0m\u001b[1;33m\u001b[0m\u001b[0m\n\u001b[0m\u001b[0;32m    132\u001b[0m \u001b[1;33m\u001b[0m\u001b[0m\n\u001b[0;32m    133\u001b[0m     \u001b[1;32mdef\u001b[0m \u001b[0mfinferencer\u001b[0m\u001b[1;33m(\u001b[0m\u001b[0mself\u001b[0m\u001b[1;33m)\u001b[0m\u001b[1;33m:\u001b[0m\u001b[1;33m\u001b[0m\u001b[1;33m\u001b[0m\u001b[0m\n",
      "\u001b[1;32mC:\\ProgramData\\Anaconda3\\lib\\site-packages\\gensim\\models\\wrappers\\ldamallet.py\u001b[0m in \u001b[0;36mtrain\u001b[1;34m(self, corpus)\u001b[0m\n\u001b[0;32m    270\u001b[0m \u001b[1;33m\u001b[0m\u001b[0m\n\u001b[0;32m    271\u001b[0m         \"\"\"\n\u001b[1;32m--> 272\u001b[1;33m         \u001b[0mself\u001b[0m\u001b[1;33m.\u001b[0m\u001b[0mconvert_input\u001b[0m\u001b[1;33m(\u001b[0m\u001b[0mcorpus\u001b[0m\u001b[1;33m,\u001b[0m \u001b[0minfer\u001b[0m\u001b[1;33m=\u001b[0m\u001b[1;32mFalse\u001b[0m\u001b[1;33m)\u001b[0m\u001b[1;33m\u001b[0m\u001b[1;33m\u001b[0m\u001b[0m\n\u001b[0m\u001b[0;32m    273\u001b[0m         \u001b[0mcmd\u001b[0m \u001b[1;33m=\u001b[0m \u001b[0mself\u001b[0m\u001b[1;33m.\u001b[0m\u001b[0mmallet_path\u001b[0m \u001b[1;33m+\u001b[0m \u001b[1;34m' train-topics --input %s --num-topics %s  --alpha %s --optimize-interval %s '\u001b[0m\u001b[0;31m\\\u001b[0m\u001b[1;33m\u001b[0m\u001b[1;33m\u001b[0m\u001b[0m\n\u001b[0;32m    274\u001b[0m             \u001b[1;34m'--num-threads %s --output-state %s --output-doc-topics %s --output-topic-keys %s '\u001b[0m\u001b[0;31m\\\u001b[0m\u001b[1;33m\u001b[0m\u001b[1;33m\u001b[0m\u001b[0m\n",
      "\u001b[1;32mC:\\ProgramData\\Anaconda3\\lib\\site-packages\\gensim\\models\\wrappers\\ldamallet.py\u001b[0m in \u001b[0;36mconvert_input\u001b[1;34m(self, corpus, infer, serialize_corpus)\u001b[0m\n\u001b[0;32m    259\u001b[0m             \u001b[0mcmd\u001b[0m \u001b[1;33m=\u001b[0m \u001b[0mcmd\u001b[0m \u001b[1;33m%\u001b[0m \u001b[1;33m(\u001b[0m\u001b[0mself\u001b[0m\u001b[1;33m.\u001b[0m\u001b[0mfcorpustxt\u001b[0m\u001b[1;33m(\u001b[0m\u001b[1;33m)\u001b[0m\u001b[1;33m,\u001b[0m \u001b[0mself\u001b[0m\u001b[1;33m.\u001b[0m\u001b[0mfcorpusmallet\u001b[0m\u001b[1;33m(\u001b[0m\u001b[1;33m)\u001b[0m\u001b[1;33m)\u001b[0m\u001b[1;33m\u001b[0m\u001b[1;33m\u001b[0m\u001b[0m\n\u001b[0;32m    260\u001b[0m         \u001b[0mlogger\u001b[0m\u001b[1;33m.\u001b[0m\u001b[0minfo\u001b[0m\u001b[1;33m(\u001b[0m\u001b[1;34m\"converting temporary corpus to MALLET format with %s\"\u001b[0m\u001b[1;33m,\u001b[0m \u001b[0mcmd\u001b[0m\u001b[1;33m)\u001b[0m\u001b[1;33m\u001b[0m\u001b[1;33m\u001b[0m\u001b[0m\n\u001b[1;32m--> 261\u001b[1;33m         \u001b[0mcheck_output\u001b[0m\u001b[1;33m(\u001b[0m\u001b[0margs\u001b[0m\u001b[1;33m=\u001b[0m\u001b[0mcmd\u001b[0m\u001b[1;33m,\u001b[0m \u001b[0mshell\u001b[0m\u001b[1;33m=\u001b[0m\u001b[1;32mTrue\u001b[0m\u001b[1;33m)\u001b[0m\u001b[1;33m\u001b[0m\u001b[1;33m\u001b[0m\u001b[0m\n\u001b[0m\u001b[0;32m    262\u001b[0m \u001b[1;33m\u001b[0m\u001b[0m\n\u001b[0;32m    263\u001b[0m     \u001b[1;32mdef\u001b[0m \u001b[0mtrain\u001b[0m\u001b[1;33m(\u001b[0m\u001b[0mself\u001b[0m\u001b[1;33m,\u001b[0m \u001b[0mcorpus\u001b[0m\u001b[1;33m)\u001b[0m\u001b[1;33m:\u001b[0m\u001b[1;33m\u001b[0m\u001b[1;33m\u001b[0m\u001b[0m\n",
      "\u001b[1;32mC:\\ProgramData\\Anaconda3\\lib\\site-packages\\gensim\\utils.py\u001b[0m in \u001b[0;36mcheck_output\u001b[1;34m(stdout, *popenargs, **kwargs)\u001b[0m\n\u001b[0;32m   1930\u001b[0m             \u001b[0merror\u001b[0m \u001b[1;33m=\u001b[0m \u001b[0msubprocess\u001b[0m\u001b[1;33m.\u001b[0m\u001b[0mCalledProcessError\u001b[0m\u001b[1;33m(\u001b[0m\u001b[0mretcode\u001b[0m\u001b[1;33m,\u001b[0m \u001b[0mcmd\u001b[0m\u001b[1;33m)\u001b[0m\u001b[1;33m\u001b[0m\u001b[1;33m\u001b[0m\u001b[0m\n\u001b[0;32m   1931\u001b[0m             \u001b[0merror\u001b[0m\u001b[1;33m.\u001b[0m\u001b[0moutput\u001b[0m \u001b[1;33m=\u001b[0m \u001b[0moutput\u001b[0m\u001b[1;33m\u001b[0m\u001b[1;33m\u001b[0m\u001b[0m\n\u001b[1;32m-> 1932\u001b[1;33m             \u001b[1;32mraise\u001b[0m \u001b[0merror\u001b[0m\u001b[1;33m\u001b[0m\u001b[1;33m\u001b[0m\u001b[0m\n\u001b[0m\u001b[0;32m   1933\u001b[0m         \u001b[1;32mreturn\u001b[0m \u001b[0moutput\u001b[0m\u001b[1;33m\u001b[0m\u001b[1;33m\u001b[0m\u001b[0m\n\u001b[0;32m   1934\u001b[0m     \u001b[1;32mexcept\u001b[0m \u001b[0mKeyboardInterrupt\u001b[0m\u001b[1;33m:\u001b[0m\u001b[1;33m\u001b[0m\u001b[1;33m\u001b[0m\u001b[0m\n",
      "\u001b[1;31mCalledProcessError\u001b[0m: Command 'C://Users//gabov//Desktop//aerolinea_sentiment//data//mallet-208//bin import-file --preserve-case --keep-sequence --remove-stopwords --token-regex \"\\S+\" --input C:\\Users\\gabov\\AppData\\Local\\Temp\\7bdd9d_corpus.txt --output C:\\Users\\gabov\\AppData\\Local\\Temp\\7bdd9d_corpus.mallet' returned non-zero exit status 1."
     ]
    }
   ],
   "source": [
    "# Download File: http://mallet.cs.umass.edu/dist/mallet-2.0.8.zip\n",
    "mallet_path = 'C://Users//gabov//Desktop//aerolinea_sentiment//data//mallet-208//bin'\n",
    "ldamallet = gensim.models.wrappers.LdaMallet(mallet_path, corpus=corpus, num_topics=20, id2word=id2word)"
   ]
  },
  {
   "cell_type": "code",
   "execution_count": null,
   "id": "d053302e",
   "metadata": {},
   "outputs": [],
   "source": [
    "os.environ['MALLET_HOME'] = 'C:/Users/gabov/Desktop/aerolinea_sentiment/data/mallet-208'\n",
    "mallet_path = '\\data\\mallet-208\\bin\\mallet' # you should NOT need to change this \n",
    "corpus_path = '\\data' # you need to change this path to the directory containing your corpus of .txt files"
   ]
  },
  {
   "cell_type": "code",
   "execution_count": null,
   "id": "1a79b727",
   "metadata": {},
   "outputs": [],
   "source": [
    "ldamallet = gensim.models.wrappers.LdaMallet(mallet_path, corpus=corpus, num_topics=6, id2word=id2word)"
   ]
  },
  {
   "cell_type": "code",
   "execution_count": null,
   "id": "d8e9be11",
   "metadata": {},
   "outputs": [],
   "source": []
  }
 ],
 "metadata": {
  "kernelspec": {
   "display_name": "Python 3 (ipykernel)",
   "language": "python",
   "name": "python3"
  },
  "language_info": {
   "codemirror_mode": {
    "name": "ipython",
    "version": 3
   },
   "file_extension": ".py",
   "mimetype": "text/x-python",
   "name": "python",
   "nbconvert_exporter": "python",
   "pygments_lexer": "ipython3",
   "version": "3.9.7"
  }
 },
 "nbformat": 4,
 "nbformat_minor": 5
}
